{
 "cells": [
  {
   "cell_type": "markdown",
   "metadata": {},
   "source": [
    "## Final Project: Lane Tracking and Keeping System for an Autonomous Vehicle\n",
    "\n",
    "\n",
    "Self-driving vehicle with lane keeping system functionality. The vehicle uses a Kalman Filter for tracking lanes and a single monocular camera for detection purposes. The target platform is a Raspberry Pi 3B+. \n",
    "\n",
    "Written by: Enrique Mireles Gutiérrez  \n",
    "ID Number: 513944  \n",
    "Bachelor: ITR  \n",
    "Date: 2019-05-23\n"
   ]
  },
  {
   "cell_type": "markdown",
   "metadata": {},
   "source": [
    "### Introduction\n",
    "\n",
    "Lane tracking and keeping systems have started to appear on commercial vehicles lately. Even though its development started long ago, it has only been a couple of years since its application has become commercially available. This technology not only detects lanes but also makes sure that the vehicle remains centered on the lane while driving. This is presents quite a different scenario to commonly known lane departure systems, which alert the driver when its leaning towards an edge on the lanes. \n",
    "\n",
    "Solving the problem of keeping a vehicle centered within lanes is no easy task. Therefore, the problem must be broken down into smaller problems that can be easily tackled by themselves. Two key components of the system are lane tracking systems and lane keeping systems. Furthermore, lane tracking systems consist on lane detection systems and filters such as Particle filters and Kalman filters.\n",
    "\n",
    "On previous lab reports, the problem of detecting lanes was thoroughly solved. However, this final project required to develop filters for tracking the lanes and control strategies for keeping the vehicle centered while moving forward. For tracking purposes, a Kalman Filter was used and for control purposes a PID control loop was implemented.\n"
   ]
  },
  {
   "cell_type": "markdown",
   "metadata": {},
   "source": [
    "### Objectives\n",
    "\n",
    "The main objective is to develop an autonomous vehicle capable of driving around a course as fast as possible without leaving its lane. The course is going be a track with a total length of 400m. "
   ]
  },
  {
   "cell_type": "markdown",
   "metadata": {},
   "source": [
    "### 1. Basis\n",
    "\n",
    "The Raspberry Pi 3B+ (RPi for short) is the brains on the vehicle. It will run the lane detection algorithms as well as the control algorithms for the motors and a web server for live monitoring and control of the vehicle. A STM32 microcontroller will aid the the RPi through serial communication by interfacing with the H-Bridge, reading the batteries' voltages, and providing some basic user feedback.\n",
    "\n",
    "The reasons behind using a STM32 microcontroller for the reasons mentioned before are varied. The main one relies on moving all IO operations outside of the Raspberry Pi to focus its work on the lane detection algorithms and web server. Furthermore, it adds a layer of protection between the RPi and the outside world. Finally, since the STM32 microcontroller runs at 3.3V its the perfect match for the RPi."
   ]
  },
  {
   "cell_type": "markdown",
   "metadata": {},
   "source": [
    "#### 1.1 Prerequisites"
   ]
  },
  {
   "cell_type": "markdown",
   "metadata": {},
   "source": [
    "- Python 3.6.7\n",
    "- OpenCV 3.4.3 (lane detection).\n",
    "- FilterPy 1.4.5 (for implementing the Kalman Filter).\n",
    "- Numpy 1.16.2\n",
    "- Imutils (for a threaded RPi camera implementation)."
   ]
  },
  {
   "cell_type": "markdown",
   "metadata": {},
   "source": [
    "#### 1.2 Network\n",
    "\n",
    "The main idea is to create a network hotspot on a laptop to which the Raspberry Pi is going to connect. The Raspberry Pi will be running its server locally and will try to connect automatically to the network every time it is in range. Doing so allows for a constant server operation and whenever a connection is lost or the hotspot isn't running, the server keeps on running looking for any connections.\n",
    "\n",
    "Additionally, the created hotspot will be a bridged hotspot between any available wireless networks connected on the laptop. This means that whenever the RPi connects to the hotspot it will automatically gain internet access to the Internet. This implies that a second wireless card must be used. In my case, the internal wifi card of the laptop was used for Internet access and a external Etekcity 300 Mbps 2.4Ghz SI-7200ND wireless adapter was used for the hotspot creation.\n",
    "\n",
    "The hotspot's network details are:\n",
    "- Name: `mini-tesla`\n",
    "- Passworkd: `elonmusk`\n",
    "- IP: `10.0.0.1`\n",
    "- Subnet mask: `255.255.255.0`\n",
    "- Gateway: `blank` (this causes the hotspot to route all trafic to the other available gateway which connects to the Internet.)\n",
    "\n",
    "The RPi network address is:\n",
    "- IP: `10.0.0.2`\n",
    "- Subnet mask: `255.255.255.0`\n",
    "- Router: `10.0.0.1`"
   ]
  },
  {
   "cell_type": "markdown",
   "metadata": {},
   "source": [
    "#### 1.2.1 Creating a Hotspot\n",
    "\n",
    "The next instructions should be followed on the computer where the hotspot will be created. These instructions were executed on a Laptop running Ubuntu 18.04 on XFCE.\n",
    "\n",
    "1. Go the Wi-Fi icon on the status bar.\n",
    "2. Select the option `Edit Connections...` and press the `+` button.\n",
    "3. Connection type will be `Wi-Fi`.\n",
    "4. Configure the network as follows:\n",
    "\t- Wi-Fi > Connection name: `mini-tesla-hotspot`\n",
    "\t- Wi-Fi > SSID: `mini-tesla`\n",
    "\t- Wi-Fi > Mode: `Hotspot`\n",
    "\t- Wi-Fi > Device: depends on your setup\n",
    "\t- Wi-Fi Security > Security: `WPA & WPA2 Personal`\n",
    "\t- Wi-Fi Security > Key: `elonmusk`\n",
    "\t- IPv4 Settings > Address > Add:\n",
    "\t\t- Address: `10.0.0.1`\n",
    "\t\t- Netmask: `24`\n",
    "\t\t- Gateway: (do not fill, leave blank)\n",
    "5. Once the network is configured go again to the Wi-Fi icon and select `Connect to Hidden Wi-Fi Network...`.\n",
    "6. Finally, select the corresponding Wi-Fi adapter and the newly created connection. Then press connect.\n"
   ]
  },
  {
   "cell_type": "markdown",
   "metadata": {},
   "source": [
    "#### 1.2.2 Static IP for the RPi\n",
    "\n",
    "The following commands will set a static IP address on the RPi. Important to note is that by doing so you may loose access to other networks, since no automatic IP assignment will be made. However, ethernet connections should still work as normal.\n",
    "\n",
    "1. Edit `/etc/dhcpcd.conf` and write at the end of the file:\n",
    "        \n",
    "        interface wlan0\n",
    "        static ip_address=10.0.0.2/24\n",
    "        static routers=10.0.0.1\n",
    "        static domain_name_servers=10.0.0.1\n",
    "\n",
    "2. Connect manually to the hotspot `mini-tesla` on the RPi.\n",
    "\n",
    "Once the RPi has successfully connected to the hotspot, a SSH connection can be established by executing the following command `ssh pi@10.0.0.2`. Also, to test that the RPi has a connection to the Internet through the hotspot, make sure that the hotspot computer has access to the Internet and then execute a ping on the RPi to a known website (`ping google.com`)."
   ]
  },
  {
   "cell_type": "markdown",
   "metadata": {},
   "source": [
    "#### 1.3 OpenCV 3.4.3\n",
    "\n",
    "OpenCV 3.4.3 was the library used for image processing. It was compiled from source following these tutorials:\n",
    "- https://www.alatortsev.com/2018/09/05/installing-opencv-3-4-3-on-raspberry-pi-3-b/\n",
    "- https://www.alatortsev.com/2018/11/21/installing-opencv-4-0-on-raspberry-pi-3-b/\n",
    "\n",
    "As one can see the second tutorial is for OpenCV 4.0. Nonetheless, these tutorial provides some useful tips for compiling OpenCV from source. These include: \n",
    "- Increasing swap memory temporarily.\n",
    "- Installing `screen` to keep processes running when a SHH session is dropped."
   ]
  },
  {
   "cell_type": "markdown",
   "metadata": {},
   "source": [
    "#### 1.4 Arduino and STM32\n",
    "\n",
    "Since the STM32 microcontroller will monitor and control key aspects of the vehicle it becomes important for the RPi to be able to communicate to the device and to program it.\n",
    "Since the STM32 has a bootloader for UART programming, only two wires are required between the RPi for both tasks: TX and RX.\n",
    "\n",
    "By following these tutorials it was possible to install the latest Arduino IDE and the required files for compiling programs for the STM32 platform. Some key aspects of these section involved assigning the high speed UART port on the RPi to the TX and RX terminals on its header, compiling the stm32flash program, and installing the STM32 board and libraries for Arduino.\n",
    "\n",
    "- https://www.raspberrypi.org/magpi/program-arduino-uno-raspberry-pi/\n",
    "- https://siliconjunction.wordpress.com/2017/03/21/flashing-the-stm32f-board-using-a-raspberry-pi-3/\n",
    "- https://github.com/rogerclarkmelbourne/Arduino_STM32/wiki/Installation\n"
   ]
  },
  {
   "cell_type": "markdown",
   "metadata": {},
   "source": [
    "### 2. Project Structure\n",
    "\n",
    "The `main` folder contains the required files for running the lane keeping system on the RPi:\n",
    "- `car.py`: consists of the interface between `main.py` and the STM-32 controller. When started, it spwans a thread that monitors constantly the serial port for messages. The STM-32 controls the motors' speed and monitors the voltage of the batteries.\n",
    "- `processor.py`: implements the lane detection algorithms. Output from this class are the detected lanes.\n",
    "- `tracker.py`: implements the Kalman Filter for processing the output of the Processor class. Outputs the filtered lanes.\n",
    "- `line.py`: consists of a class for storing the points found via the Hough-Transform. Outputs the first order polynomial that best fits those points.\n",
    "- `main.py`: entry point for the program. Takes the output from the camera, passes the frame to the processor class, calculates the pid output, and sends the control speed via the car class."
   ]
  },
  {
   "cell_type": "markdown",
   "metadata": {},
   "source": [
    "### 3. Working Principle"
   ]
  },
  {
   "cell_type": "markdown",
   "metadata": {},
   "source": [
    "The main working principle behind the lane keeping system relies on the idea that for a system that estimates the lane position via a first order polynomial, the position of the lanes will always be the same when the vehicle's position is centered on the lanes. This true regardless on the lane curvature. Since the vehicle is moving at a slow speed, such an estimate can be made and produces reliable results. \n",
    "\n",
    "The following image shows in white the center position of the lanes, and in yellow and cyan the currently detect lanes. Since the vehicle is relatively centered, the position of the detected and centered lanes is about the same.\n",
    "<img src=\"tracking-center.png\" alt=\"Vehicle centered on the lanes.\" width=\"500\">\n",
    "\n",
    "In the following image, the vehicle turned suddenly to the right. Therefore, the detected lanes are to the left from the centered lines. By measuring the -x distance from the tip of the centered lanes to the tip of the detected lanes, an indication of how much the vehicle has departed from the center can be estimated.\n",
    "<img src=\"tracking-right.png\" alt=\"Vehicle turning right.\" width=\"500\">\n",
    "\n",
    "The -x distance is colored in the following image. This distance will be the input for the PID control loop, also known as the error. The PID control will attempt to minimize this error to zero, thus centering the vehicle on the lanes.\n",
    "<img src=\"tracking-right-distance.png\" alt=\"Error\" width=\"500\">"
   ]
  },
  {
   "cell_type": "markdown",
   "metadata": {},
   "source": [
    "### Conclusions\n",
    "\n",
    "The development of the lane keeping system consisted on the successful development of its core components measured at the beginning of this project. One of the biggest struggles for this project where the lane tracking and control systems. A naive approach was taken at first, which consisted on calculating the intersection point between the detected lanes and measuring the deviation from the image center. This deviation would be the input to the PID and must be minimized to zero. Nonetheless, this proved to result unsuccessful. When the vehicle is turning the center of the image moves slightly to the turning side and the vehicle slowly starts to lean towards this edge until it completely goes over the lane. \n",
    "\n",
    "Therefore, a more complex algorithm was proposed. For this, data and video was recovered from manual control tests and it was found that the detected lanes tend to follow a normal distribution. This meant that they have a mean value and that they could be filtered via a Kalman Filter. Further analysis proved that by trying to keep the vehicle centered on the mean values for the lanes would also mean that the vehicle would remain centered.\n",
    "\n",
    "Implementing this algorithm required going a step further than what was though in this course. A Kalman Filter was a key aspect for this project to work. It’s such a powerful filter with a lot of versatility. It allowed to filter outliers and produced a smooth lane detection.\n",
    "\n",
    "A limiting factor for the performance of this vehicle was the physical construction. The vehicle is a two-wheeled robot with a caster wheel on front. By having this construction type, any debris found on the track caused the vehicle to jump and turn at the same time. This made it harder to control the vehicle and limited the speed at which the vehicle could be driven. The maximum speed for reliable results was 40%. At this speed the vehicle was capable of driving around the track with no errors.\n",
    "\n",
    "As a recommendation, a four wheeled robot would be a better design choice for this kind of vehicle. Finally, a more complex algorithm for detecting lanes would be desirable. By estimating a second degree polynomial and the lane curvature, the vehicle can be better centered. However, doing so would result in a completely different implementation to what was thought throughout this course. \n",
    "\n",
    "All in all, I believe what was achieved with the knowledge learned in this course and the implementation of a Kalman Filter produced great results. This is the last class in my bachelor’s degree, and it has allowed me to practice everything that I have learned on previous semesters."
   ]
  },
  {
   "cell_type": "markdown",
   "metadata": {},
   "source": [
    "### References"
   ]
  },
  {
   "cell_type": "markdown",
   "metadata": {},
   "source": [
    "_I hereby affirm that I have done this activity with academic integrity._"
   ]
  }
 ],
 "metadata": {
  "kernelspec": {
   "display_name": "Python 3",
   "language": "python",
   "name": "python3"
  },
  "language_info": {
   "codemirror_mode": {
    "name": "ipython",
    "version": 3
   },
   "file_extension": ".py",
   "mimetype": "text/x-python",
   "name": "python",
   "nbconvert_exporter": "python",
   "pygments_lexer": "ipython3",
   "version": "3.6.7"
  }
 },
 "nbformat": 4,
 "nbformat_minor": 2
}
