{
 "cells": [
  {
   "cell_type": "markdown",
   "metadata": {},
   "source": [
    "## Lab 4: Image colour space for object segmentation\n",
    "\n",
    "Written by: Enrique Mireles Gutiérrez  \n",
    "ID Number: 513944  \n",
    "Bachelor: ITR  \n",
    "Date: 2019-02-19  "
   ]
  },
  {
   "cell_type": "markdown",
   "metadata": {},
   "source": [
    "### Introduction\n",
    "\n",
    "Object segmentation in images or video can be done by selecting the pixels with similar color. This can be useful in several applications. For instance, in autonomous vehicles, object segmentation could be used to identify traffic lights, traffic lanes, traffic signs, and many other objects; all of them uniquely identified by their color. \n",
    "\n",
    "The main difficulty when performing object segmentation is lighting. When lightning changes, colors can be perceived darker or lighter, therefore producing different shades, tints, and tones of the same hue. Normally, cameras provide images in the RGB color space (BGR for OpenCV). The main disadvantage of this color space is that lightning affects the three components of the color (red, green, blue), and therefore, it becomes difficult to select a range of colors programmatically. Another alternative must be used.\n",
    "\n",
    "HSV is another color space that is composed of three variables:\n",
    "- hue: pure color it resembles. All shades, tones, and tints of the of x color have the same hue.\n",
    "- saturation: describes how white the color is. Pure red is fully saturated. Meanwhile, white has a saturation of 0.\n",
    "- value: also called lightness, describes how dark the color is. A value of 0 means black.\n",
    "\n",
    "In the HSV color space, when lighting changes, the hue component remains constant for the most part. This advantage makes it easy to select hues under different lighting conditions. For this reason, it is used as a robust alternative to the RGB color space for object segmentation."
   ]
  },
  {
   "cell_type": "markdown",
   "metadata": {},
   "source": [
    "### Objectives\n",
    "\n",
    "In this lab, you will learn about image colour space, particularly about the HSV (Hue, Saturation, Value) and HLS (Hue, Saturation, Lightness) colour maps. You will use this colour space to segment an object in a video sequence, this object can be either a fish swimming in a fishbolw, lane lines on a road, or any other object that can be segmented by using its corresponding HSV components."
   ]
  },
  {
   "cell_type": "markdown",
   "metadata": {},
   "source": [
    "### Procedure\n",
    "\n",
    "This lab report is subdivided in smaller numbered programs shown below."
   ]
  },
  {
   "cell_type": "markdown",
   "metadata": {},
   "source": [
    "#### 1. Importing Libraries\n",
    "\n",
    "The following libraries are used throughout the lab report:\n",
    "- cv2: OpenCV library used for artificial vision.\n",
    "- numpy: Library used for matrix operations.\n",
    "- time: Used to create delays to slow down the video playback."
   ]
  },
  {
   "cell_type": "code",
   "execution_count": 3,
   "metadata": {},
   "outputs": [],
   "source": [
    "import numpy as np\n",
    "import cv2\n",
    "import time"
   ]
  },
  {
   "cell_type": "markdown",
   "metadata": {},
   "source": [
    "#### 2. Constant definitions\n",
    "\n",
    "The following lines define the constants used throughout the lab report:"
   ]
  },
  {
   "cell_type": "code",
   "execution_count": 4,
   "metadata": {},
   "outputs": [],
   "source": [
    "FISH_VIDEO = '../fig/videos/volti-01.mp4'\n",
    "RUNNING_TRACK_VIDEO = '../fig/videos/running-track.mp4'\n",
    "MARDIGRASS_VIDEO = '../fig/videos/mardigrass.mp4'"
   ]
  },
  {
   "cell_type": "markdown",
   "metadata": {},
   "source": [
    "#### 3. Useful functions\n",
    "\n",
    "The following functions are used several times. In order to avoid repetition they are defined here."
   ]
  },
  {
   "cell_type": "code",
   "execution_count": 5,
   "metadata": {},
   "outputs": [],
   "source": [
    "def inHSVRanges(image, ranges):\n",
    "    \"\"\"\n",
    "        Given an array of ranges containing min and max hsv values,\n",
    "        this function returns a mask that combines all ranges.\n",
    "        It also displays every mask in its own window.\n",
    "    \"\"\"\n",
    "    \n",
    "    hsv = cv2.cvtColor(image, cv2.COLOR_BGR2HSV)\n",
    "    result = None\n",
    "    for r in ranges:\n",
    "        mask = cv2.inRange(hsv, r[0], r[1])\n",
    "        cv2.imshow(r[2], cv2.bitwise_and(image, image, mask=mask))\n",
    "        if (result is None):\n",
    "            result = mask\n",
    "        else:\n",
    "            result = cv2.bitwise_or(result, mask)\n",
    "    return result\n",
    "\n",
    "def createHSVRangeWindows(ranges):\n",
    "    \"\"\"\n",
    "        For every range create its own window.\n",
    "    \"\"\"\n",
    "    \n",
    "    for r in ranges:\n",
    "        cv2.namedWindow(r[2], cv2.WINDOW_NORMAL)\n",
    "\n",
    "def resize(image, factor):\n",
    "    \"\"\"\n",
    "        Returns a resized image by the specified factor.\n",
    "    \"\"\"\n",
    "    \n",
    "    new_h = int(image.shape[0] / factor)\n",
    "    new_w = int(image.shape[1] / factor)\n",
    "    return cv2.resize(image, (new_w, new_h)) \n",
    "\n",
    "def openVideo(source_video_file):\n",
    "    \"\"\"\n",
    "        This function attempts to open a video file.\n",
    "        If it fails, it exits the application.\n",
    "    \"\"\"\n",
    "    \n",
    "    cap = cv2.VideoCapture(source_video_file)\n",
    "    if(not cap.isOpened()):\n",
    "        print(\"Error opening video source\")\n",
    "        exit()\n",
    "    return cap\n",
    "\n",
    "def closeWindows(cap):\n",
    "    \"\"\"\n",
    "        Release videos and destroy windows.\n",
    "    \"\"\"\n",
    "    cap.release()\n",
    "    cv2.destroyAllWindows()"
   ]
  },
  {
   "cell_type": "markdown",
   "metadata": {},
   "source": [
    "#### 4. Types of color spaces available\n",
    "\n",
    "This program prints the available color spaces in OpenCV."
   ]
  },
  {
   "cell_type": "code",
   "execution_count": null,
   "metadata": {
    "scrolled": true
   },
   "outputs": [],
   "source": [
    "colour_space_list = [i for i in dir(cv2) if i.startswith('COLOR_')]\n",
    "print(colour_space_list)"
   ]
  },
  {
   "cell_type": "markdown",
   "metadata": {},
   "source": [
    "#### 5. Object segmentation\n",
    "\n",
    "This program obtains all pixels within a HSV color range in order to segement an object. The program can choose between 4 sample videos to segment. To change the video, modify the parameter `dataset_number` in the main function."
   ]
  },
  {
   "cell_type": "code",
   "execution_count": 13,
   "metadata": {},
   "outputs": [],
   "source": [
    "def processVideo(cap, hsv_min = (0, 0, 0), hsv_max = (180, 255, 255)):\n",
    "\n",
    "    # Create new windows for visualisation purposes\n",
    "    cv2.namedWindow('Input video', cv2.WINDOW_NORMAL)\n",
    "    cv2.namedWindow('Segmented object', cv2.WINDOW_NORMAL)\n",
    "\n",
    "    while(cap.isOpened()):\n",
    "\n",
    "        # Grab current frame.\n",
    "        ret, frame = cap.read()\n",
    "\n",
    "        # Verify that frame was properly captured.\n",
    "        if ret == False:\n",
    "            print(\"ERROR: current frame could not be read\")            \n",
    "            break\n",
    "\n",
    "        # Convert BGR to HSV.\n",
    "        frame = resize(frame, 4)\n",
    "        hsv = cv2.cvtColor(frame, cv2.COLOR_BGR2HSV)\n",
    "\n",
    "        # Threshold the hsv image so that only blue pixels are kept.\n",
    "        mask = cv2.inRange(hsv, hsv_min, hsv_max)\n",
    "\n",
    "        # AND-bitwise operation between the mask and input images.\n",
    "        segmented_objects = cv2.bitwise_and(frame, frame, mask=mask)\n",
    "\n",
    "        # Visualise current frame.\n",
    "        cv2.imshow('input video',frame)\n",
    "\n",
    "        # Visualise segmented blue object.\n",
    "        cv2.imshow('segmented object', segmented_objects)\n",
    "\n",
    "        # Exit when the user presses the letter q.\n",
    "        if cv2.waitKey(1) & 0xFF == ord('q'):\n",
    "            break\n",
    "\n",
    "def main(dataset_number = 1):\n",
    "    \n",
    "    # Define an array containing min hsv, max hsv and the video file.\n",
    "    data = [\n",
    "        [(115, 30, 0), (190, 250, 250), FISH_VIDEO],\n",
    "        [(130, 0, 100), (160, 255, 255), RUNNING_TRACK_VIDEO],\n",
    "        [(160, 85, 85), (180, 200, 200), RUNNING_TRACK_VIDEO],\n",
    "        [(95, 40, 100), (110, 255, 255), MARDIGRASS_VIDEO]\n",
    "    ]\n",
    "    \n",
    "    # Make sure dataset number is within a valid range.\n",
    "    if (dataset_number >= 1 and dataset_number <= len(data)):\n",
    "        \n",
    "        # Open the selected video file.\n",
    "        selected = data[dataset_number - 1]\n",
    "        cap = openVideo(selected[2])\n",
    "        \n",
    "        # Filter video.\n",
    "        processVideo(cap, hsv_min = selected[0], hsv_max = selected[1])\n",
    "        \n",
    "        # When video finishes, close windows.\n",
    "        closeWindows(cap)\n",
    "    \n",
    "    else:\n",
    "        \n",
    "        print(\"Invalid dataset number.\")\n",
    "        exit()\n",
    "    \n",
    "main(dataset_number = 1)"
   ]
  },
  {
   "cell_type": "markdown",
   "metadata": {},
   "source": [
    "#### 6. Segment multiple objects\n",
    "\n",
    "In order to segment multiple objects, multiple ranges must be specified. The following two cells select the ranges to be displayed. Then the last cell uses those ranges to display the segmented objects.\n",
    "\n",
    "![Segmentation of the fish and rocks in the fish video.](fish-fishbow-segmentation.png)\n",
    "_Segmentation of the fish and rocks in the fish video._\n",
    "\n",
    "![Segmentation of blue, red, yellow, and violet objects in the mardigrass video.](mardigrass-segmentation.png)\n",
    "_Segmentation of blue, red, yellow, and violet objects in the mardigrass video._"
   ]
  },
  {
   "cell_type": "code",
   "execution_count": 53,
   "metadata": {},
   "outputs": [],
   "source": [
    "\"\"\"\n",
    "    Ranges to segment the fish and the fishbowl rocks.\n",
    "\"\"\"\n",
    "\n",
    "scale = 4\n",
    "ranges = [\n",
    "    [(90,  40, 0), (105, 250, 250), \"rocks\"],\n",
    "    [(115, 30, 0), (190, 250, 250), \"fish\" ]\n",
    "]\n",
    "INPUT_VIDEO = FISH_VIDEO"
   ]
  },
  {
   "cell_type": "code",
   "execution_count": 54,
   "metadata": {},
   "outputs": [],
   "source": [
    "\"\"\"\n",
    "    Ranges to segment blue, red, yellow, and violet color objects.\n",
    "\"\"\"\n",
    "\n",
    "scale = 2\n",
    "ranges = [\n",
    "    [(0,   100, 0), (10,  250, 250),  \"red\"   ],\n",
    "    [(20,  80,  0), (30,  250, 250),  \"yellow\"],\n",
    "    [(95,  50,  50), (105, 250, 250),  \"blue\"  ],\n",
    "    [(125, 30,  0), (135, 250, 250),  \"violet\"],\n",
    "]\n",
    "INPUT_VIDEO = MARDIGRASS_VIDEO"
   ]
  },
  {
   "cell_type": "code",
   "execution_count": 55,
   "metadata": {},
   "outputs": [],
   "source": [
    "# Open the specified video file.\n",
    "cap = openVideo(INPUT_VIDEO)\n",
    "\n",
    "# Create windows for input, output objects, and all ranges.\n",
    "cv2.namedWindow('input video', cv2.WINDOW_NORMAL)\n",
    "cv2.namedWindow('segmented objects', cv2.WINDOW_NORMAL)\n",
    "createHSVRangeWindows(ranges)\n",
    "\n",
    "while(cap.isOpened()):\n",
    "    \n",
    "    # Get the current frame.\n",
    "    ret, frame = cap.read()\n",
    "    if ret == False:\n",
    "        print(\"ERROR: current frame could not be read\")\n",
    "        break\n",
    "    \n",
    "    # Scale frame.\n",
    "    frame = resize(frame, scale)\n",
    "    \n",
    "    # Create a mask containing all ranges. Also display\n",
    "    # the range in its corresponding window.\n",
    "    mask = inHSVRanges(frame, ranges)\n",
    "    \n",
    "    # Apply mask to input frame.\n",
    "    segmented_objects = cv2.bitwise_and(frame, frame, mask=mask)\n",
    "    \n",
    "    # Display results.\n",
    "    cv2.imshow('input video', frame)\n",
    "    cv2.imshow('segmented objects', segmented_objects)\n",
    "    \n",
    "    # If the user presses the letter q exit.\n",
    "    if cv2.waitKey(1) & 0xFF == ord('q'):\n",
    "        break\n",
    "    \n",
    "    # Slow down video.\n",
    "    time.sleep(1/30)\n",
    "\n",
    "# Tidy up windows and exit.\n",
    "closeWindows(cap)"
   ]
  },
  {
   "cell_type": "markdown",
   "metadata": {},
   "source": [
    "### Conclusions\n",
    "\n",
    "In conclusion, working in the RGB color space isn’t that robust as working in the HSV color space. The main advantage is presented when the lighting changes. In the RGB color space, when the amount of light varies, different shades of the same color are perceived and represented in three variables (red, green, and blue). These three variables can change completely even through they could represent the same hue under different light conditions. This situation doesn’t happen under the HSV color space. The hue is maintained under different lighting conditions. Therefore, when segmenting colors is a required task, the HSV color space is ideal."
   ]
  },
  {
   "cell_type": "markdown",
   "metadata": {},
   "source": [
    "### References\n",
    "\n",
    "Shipman, J. (2012). 4.3. _The hue-saturation-value (HSV) color model._  \n",
    "Retrieved from: http://infohost.nmt.edu/tcc/help/pubs/colortheory/web/hsv.html"
   ]
  },
  {
   "cell_type": "markdown",
   "metadata": {},
   "source": [
    "_I hereby affirm that I have done this activity with academic integrity._"
   ]
  }
 ],
 "metadata": {
  "kernelspec": {
   "display_name": "Python 3",
   "language": "python",
   "name": "python3"
  },
  "language_info": {
   "codemirror_mode": {
    "name": "ipython",
    "version": 3
   },
   "file_extension": ".py",
   "mimetype": "text/x-python",
   "name": "python",
   "nbconvert_exporter": "python",
   "pygments_lexer": "ipython3",
   "version": "3.6.7"
  }
 },
 "nbformat": 4,
 "nbformat_minor": 2
}
