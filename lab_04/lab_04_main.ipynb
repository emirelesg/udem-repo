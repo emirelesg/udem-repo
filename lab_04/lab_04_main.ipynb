{
 "cells": [
  {
   "cell_type": "markdown",
   "metadata": {},
   "source": [
    "## Lab 4: Image colour space for object segmentation\n",
    "\n",
    "Written by: Enrique Mireles Gutiérrez  \n",
    "ID Number: 513944  \n",
    "Bachelor: ITR  \n",
    "Date: 2019-02-19  "
   ]
  },
  {
   "cell_type": "markdown",
   "metadata": {},
   "source": [
    "### Introduction\n",
    "\n",
    "Object segmentation in images or video can be done by selecting the pixels with similar color. This can be useful in several applications. For instance, in autonomous vehicles, object segmentation could be used to identify traffic lights, traffic lanes, traffic signs, and many other objects; all of them uniquely identified by their color. \n",
    "\n",
    "The main difficulty when performing object segmentation is lighting. When lightning changes, colors can be perceived darker or lighter, therefore producing different shades, tints, and tones of the same hue. Normally, cameras provide images in the RGB color space (BGR for OpenCV). The main disadvantage of this color space is that lightning affects the three components of the color (red, green, blue), and therefore, it becomes difficult to select a range of colors programmatically. Another alternative must be used.\n",
    "\n",
    "HSV is another color space that is composed of three variables:\n",
    "- hue: pure color it resembles. All shades, tones, and tints of the of x color have the same hue.\n",
    "- saturation: describes how white the color is. Pure red is fully saturated. Meanwhile, white has a saturation of 0.\n",
    "- value: also called lightness, describes how dark the color is. A value of 0 means black.\n",
    "\n",
    "In the HSV color space, when lighting changes, the hue component remains constant for the most part. This advantage makes it easy to select hues under different lighting conditions. For this reason, it is used as a robust alternative to the RGB color space for object segmentation."
   ]
  },
  {
   "cell_type": "markdown",
   "metadata": {},
   "source": [
    "### Objectives\n",
    "\n",
    "In this lab, you will learn about image colour space, particularly about the HSV (Hue, Saturation, Value) and HLS (Hue, Saturation, Lightness) colour maps. You will use this colour space to segment an object in a video sequence, this object can be either a fish swimming in a fishbolw, lane lines on a road, or any other object that can be segmented by using its corresponding HSV components."
   ]
  },
  {
   "cell_type": "markdown",
   "metadata": {},
   "source": [
    "### Procedure\n",
    "\n",
    "This lab report is subdivided in smaller numbered programs shown below."
   ]
  },
  {
   "cell_type": "markdown",
   "metadata": {},
   "source": [
    "#### 1. Importing Libraries\n",
    "\n",
    "The following libraries are used throughout the lab report:\n",
    "- cv2: OpenCV library used for artificial vision.\n",
    "- numpy: Library used for matrix operations.\n",
    "- time: Used to create delays to slow down the video playback."
   ]
  },
  {
   "cell_type": "code",
   "execution_count": 4,
   "metadata": {},
   "outputs": [],
   "source": [
    "import numpy as np\n",
    "import cv2\n",
    "import time"
   ]
  },
  {
   "cell_type": "markdown",
   "metadata": {},
   "source": [
    "#### 2. Constant definitions\n",
    "\n",
    "The following lines define the constants used throughout the lab report:"
   ]
  },
  {
   "cell_type": "code",
   "execution_count": 17,
   "metadata": {},
   "outputs": [],
   "source": [
    "FISH_VIDEO = '../fig/videos/volti.mp4'\n",
    "RUNNING_TRACK_VIDEO = '../fig/videos/running_track.mp4'\n",
    "MARDIGRASS_VIDEO = '../fig/videos/mardigrass.mp4'"
   ]
  },
  {
   "cell_type": "markdown",
   "metadata": {},
   "source": [
    "#### 3. Useful functions\n",
    "\n",
    "The following functions are used several times. In order to avoid repetition they are defined here."
   ]
  },
  {
   "cell_type": "code",
   "execution_count": 18,
   "metadata": {},
   "outputs": [],
   "source": [
    "def inHSVRanges(image, ranges):\n",
    "    \"\"\"\n",
    "        Given an array of ranges containing min and max hsv values,\n",
    "        this function returns a mask that combines all ranges.\n",
    "        It also displays every mask in its own window.\n",
    "    \"\"\"\n",
    "    \n",
    "    hsv = cv2.cvtColor(image, cv2.COLOR_BGR2HSV)\n",
    "    result = None\n",
    "    for r in ranges:\n",
    "        mask = cv2.inRange(hsv, r[0], r[1])\n",
    "        cv2.imshow(r[2], cv2.bitwise_and(image, image, mask=mask))\n",
    "        if (result is None):\n",
    "            result = mask\n",
    "        else:\n",
    "            result = cv2.bitwise_or(result, mask)\n",
    "    return result\n",
    "\n",
    "def createHSVRangeWindows(ranges):\n",
    "    \"\"\"\n",
    "        For every range create its own window.\n",
    "    \"\"\"\n",
    "    \n",
    "    for r in ranges:\n",
    "        cv2.namedWindow(r[2], cv2.WINDOW_NORMAL)\n",
    "\n",
    "def resize(image, factor):\n",
    "    \"\"\"\n",
    "        Returns a resized image by the specified factor.\n",
    "    \"\"\"\n",
    "    \n",
    "    new_h = int(image.shape[0] / factor)\n",
    "    new_w = int(image.shape[1] / factor)\n",
    "    return cv2.resize(image, (new_w, new_h)) \n",
    "\n",
    "def openVideo(source_video_file):\n",
    "    \"\"\"\n",
    "        This function attempts to open a video file.\n",
    "        If it fails, it exits the application.\n",
    "    \"\"\"\n",
    "    \n",
    "    cap = cv2.VideoCapture(source_video_file)\n",
    "    if(not cap.isOpened()):\n",
    "        print(\"Error opening video source\")\n",
    "        exit()\n",
    "    return cap\n",
    "\n",
    "def closeWindows(cap):\n",
    "    \"\"\"\n",
    "        Release videos and destroy windows.\n",
    "    \"\"\"\n",
    "    cap.release()\n",
    "    cv2.destroyAllWindows()"
   ]
  },
  {
   "cell_type": "markdown",
   "metadata": {},
   "source": [
    "#### 4. Types of color spaces available\n",
    "\n",
    "This program prints the available color spaces in OpenCV."
   ]
  },
  {
   "cell_type": "code",
   "execution_count": 6,
   "metadata": {
    "scrolled": true
   },
   "outputs": [
    {
     "name": "stdout",
     "output_type": "stream",
     "text": [
      "['COLOR_BAYER_BG2BGR', 'COLOR_BAYER_BG2BGR_EA', 'COLOR_BAYER_BG2BGR_VNG', 'COLOR_BAYER_BG2GRAY', 'COLOR_BAYER_BG2RGB', 'COLOR_BAYER_BG2RGB_EA', 'COLOR_BAYER_BG2RGB_VNG', 'COLOR_BAYER_GB2BGR', 'COLOR_BAYER_GB2BGR_EA', 'COLOR_BAYER_GB2BGR_VNG', 'COLOR_BAYER_GB2GRAY', 'COLOR_BAYER_GB2RGB', 'COLOR_BAYER_GB2RGB_EA', 'COLOR_BAYER_GB2RGB_VNG', 'COLOR_BAYER_GR2BGR', 'COLOR_BAYER_GR2BGR_EA', 'COLOR_BAYER_GR2BGR_VNG', 'COLOR_BAYER_GR2GRAY', 'COLOR_BAYER_GR2RGB', 'COLOR_BAYER_GR2RGB_EA', 'COLOR_BAYER_GR2RGB_VNG', 'COLOR_BAYER_RG2BGR', 'COLOR_BAYER_RG2BGR_EA', 'COLOR_BAYER_RG2BGR_VNG', 'COLOR_BAYER_RG2GRAY', 'COLOR_BAYER_RG2RGB', 'COLOR_BAYER_RG2RGB_EA', 'COLOR_BAYER_RG2RGB_VNG', 'COLOR_BGR2BGR555', 'COLOR_BGR2BGR565', 'COLOR_BGR2BGRA', 'COLOR_BGR2GRAY', 'COLOR_BGR2HLS', 'COLOR_BGR2HLS_FULL', 'COLOR_BGR2HSV', 'COLOR_BGR2HSV_FULL', 'COLOR_BGR2LAB', 'COLOR_BGR2LUV', 'COLOR_BGR2Lab', 'COLOR_BGR2Luv', 'COLOR_BGR2RGB', 'COLOR_BGR2RGBA', 'COLOR_BGR2XYZ', 'COLOR_BGR2YCR_CB', 'COLOR_BGR2YCrCb', 'COLOR_BGR2YUV', 'COLOR_BGR2YUV_I420', 'COLOR_BGR2YUV_IYUV', 'COLOR_BGR2YUV_YV12', 'COLOR_BGR5552BGR', 'COLOR_BGR5552BGRA', 'COLOR_BGR5552GRAY', 'COLOR_BGR5552RGB', 'COLOR_BGR5552RGBA', 'COLOR_BGR5652BGR', 'COLOR_BGR5652BGRA', 'COLOR_BGR5652GRAY', 'COLOR_BGR5652RGB', 'COLOR_BGR5652RGBA', 'COLOR_BGRA2BGR', 'COLOR_BGRA2BGR555', 'COLOR_BGRA2BGR565', 'COLOR_BGRA2GRAY', 'COLOR_BGRA2RGB', 'COLOR_BGRA2RGBA', 'COLOR_BGRA2YUV_I420', 'COLOR_BGRA2YUV_IYUV', 'COLOR_BGRA2YUV_YV12', 'COLOR_BayerBG2BGR', 'COLOR_BayerBG2BGR_EA', 'COLOR_BayerBG2BGR_VNG', 'COLOR_BayerBG2GRAY', 'COLOR_BayerBG2RGB', 'COLOR_BayerBG2RGB_EA', 'COLOR_BayerBG2RGB_VNG', 'COLOR_BayerGB2BGR', 'COLOR_BayerGB2BGR_EA', 'COLOR_BayerGB2BGR_VNG', 'COLOR_BayerGB2GRAY', 'COLOR_BayerGB2RGB', 'COLOR_BayerGB2RGB_EA', 'COLOR_BayerGB2RGB_VNG', 'COLOR_BayerGR2BGR', 'COLOR_BayerGR2BGR_EA', 'COLOR_BayerGR2BGR_VNG', 'COLOR_BayerGR2GRAY', 'COLOR_BayerGR2RGB', 'COLOR_BayerGR2RGB_EA', 'COLOR_BayerGR2RGB_VNG', 'COLOR_BayerRG2BGR', 'COLOR_BayerRG2BGR_EA', 'COLOR_BayerRG2BGR_VNG', 'COLOR_BayerRG2GRAY', 'COLOR_BayerRG2RGB', 'COLOR_BayerRG2RGB_EA', 'COLOR_BayerRG2RGB_VNG', 'COLOR_COLORCVT_MAX', 'COLOR_GRAY2BGR', 'COLOR_GRAY2BGR555', 'COLOR_GRAY2BGR565', 'COLOR_GRAY2BGRA', 'COLOR_GRAY2RGB', 'COLOR_GRAY2RGBA', 'COLOR_HLS2BGR', 'COLOR_HLS2BGR_FULL', 'COLOR_HLS2RGB', 'COLOR_HLS2RGB_FULL', 'COLOR_HSV2BGR', 'COLOR_HSV2BGR_FULL', 'COLOR_HSV2RGB', 'COLOR_HSV2RGB_FULL', 'COLOR_LAB2BGR', 'COLOR_LAB2LBGR', 'COLOR_LAB2LRGB', 'COLOR_LAB2RGB', 'COLOR_LBGR2LAB', 'COLOR_LBGR2LUV', 'COLOR_LBGR2Lab', 'COLOR_LBGR2Luv', 'COLOR_LRGB2LAB', 'COLOR_LRGB2LUV', 'COLOR_LRGB2Lab', 'COLOR_LRGB2Luv', 'COLOR_LUV2BGR', 'COLOR_LUV2LBGR', 'COLOR_LUV2LRGB', 'COLOR_LUV2RGB', 'COLOR_Lab2BGR', 'COLOR_Lab2LBGR', 'COLOR_Lab2LRGB', 'COLOR_Lab2RGB', 'COLOR_Luv2BGR', 'COLOR_Luv2LBGR', 'COLOR_Luv2LRGB', 'COLOR_Luv2RGB', 'COLOR_M_RGBA2RGBA', 'COLOR_RGB2BGR', 'COLOR_RGB2BGR555', 'COLOR_RGB2BGR565', 'COLOR_RGB2BGRA', 'COLOR_RGB2GRAY', 'COLOR_RGB2HLS', 'COLOR_RGB2HLS_FULL', 'COLOR_RGB2HSV', 'COLOR_RGB2HSV_FULL', 'COLOR_RGB2LAB', 'COLOR_RGB2LUV', 'COLOR_RGB2Lab', 'COLOR_RGB2Luv', 'COLOR_RGB2RGBA', 'COLOR_RGB2XYZ', 'COLOR_RGB2YCR_CB', 'COLOR_RGB2YCrCb', 'COLOR_RGB2YUV', 'COLOR_RGB2YUV_I420', 'COLOR_RGB2YUV_IYUV', 'COLOR_RGB2YUV_YV12', 'COLOR_RGBA2BGR', 'COLOR_RGBA2BGR555', 'COLOR_RGBA2BGR565', 'COLOR_RGBA2BGRA', 'COLOR_RGBA2GRAY', 'COLOR_RGBA2M_RGBA', 'COLOR_RGBA2RGB', 'COLOR_RGBA2YUV_I420', 'COLOR_RGBA2YUV_IYUV', 'COLOR_RGBA2YUV_YV12', 'COLOR_RGBA2mRGBA', 'COLOR_XYZ2BGR', 'COLOR_XYZ2RGB', 'COLOR_YCR_CB2BGR', 'COLOR_YCR_CB2RGB', 'COLOR_YCrCb2BGR', 'COLOR_YCrCb2RGB', 'COLOR_YUV2BGR', 'COLOR_YUV2BGRA_I420', 'COLOR_YUV2BGRA_IYUV', 'COLOR_YUV2BGRA_NV12', 'COLOR_YUV2BGRA_NV21', 'COLOR_YUV2BGRA_UYNV', 'COLOR_YUV2BGRA_UYVY', 'COLOR_YUV2BGRA_Y422', 'COLOR_YUV2BGRA_YUNV', 'COLOR_YUV2BGRA_YUY2', 'COLOR_YUV2BGRA_YUYV', 'COLOR_YUV2BGRA_YV12', 'COLOR_YUV2BGRA_YVYU', 'COLOR_YUV2BGR_I420', 'COLOR_YUV2BGR_IYUV', 'COLOR_YUV2BGR_NV12', 'COLOR_YUV2BGR_NV21', 'COLOR_YUV2BGR_UYNV', 'COLOR_YUV2BGR_UYVY', 'COLOR_YUV2BGR_Y422', 'COLOR_YUV2BGR_YUNV', 'COLOR_YUV2BGR_YUY2', 'COLOR_YUV2BGR_YUYV', 'COLOR_YUV2BGR_YV12', 'COLOR_YUV2BGR_YVYU', 'COLOR_YUV2GRAY_420', 'COLOR_YUV2GRAY_I420', 'COLOR_YUV2GRAY_IYUV', 'COLOR_YUV2GRAY_NV12', 'COLOR_YUV2GRAY_NV21', 'COLOR_YUV2GRAY_UYNV', 'COLOR_YUV2GRAY_UYVY', 'COLOR_YUV2GRAY_Y422', 'COLOR_YUV2GRAY_YUNV', 'COLOR_YUV2GRAY_YUY2', 'COLOR_YUV2GRAY_YUYV', 'COLOR_YUV2GRAY_YV12', 'COLOR_YUV2GRAY_YVYU', 'COLOR_YUV2RGB', 'COLOR_YUV2RGBA_I420', 'COLOR_YUV2RGBA_IYUV', 'COLOR_YUV2RGBA_NV12', 'COLOR_YUV2RGBA_NV21', 'COLOR_YUV2RGBA_UYNV', 'COLOR_YUV2RGBA_UYVY', 'COLOR_YUV2RGBA_Y422', 'COLOR_YUV2RGBA_YUNV', 'COLOR_YUV2RGBA_YUY2', 'COLOR_YUV2RGBA_YUYV', 'COLOR_YUV2RGBA_YV12', 'COLOR_YUV2RGBA_YVYU', 'COLOR_YUV2RGB_I420', 'COLOR_YUV2RGB_IYUV', 'COLOR_YUV2RGB_NV12', 'COLOR_YUV2RGB_NV21', 'COLOR_YUV2RGB_UYNV', 'COLOR_YUV2RGB_UYVY', 'COLOR_YUV2RGB_Y422', 'COLOR_YUV2RGB_YUNV', 'COLOR_YUV2RGB_YUY2', 'COLOR_YUV2RGB_YUYV', 'COLOR_YUV2RGB_YV12', 'COLOR_YUV2RGB_YVYU', 'COLOR_YUV420P2BGR', 'COLOR_YUV420P2BGRA', 'COLOR_YUV420P2GRAY', 'COLOR_YUV420P2RGB', 'COLOR_YUV420P2RGBA', 'COLOR_YUV420SP2BGR', 'COLOR_YUV420SP2BGRA', 'COLOR_YUV420SP2GRAY', 'COLOR_YUV420SP2RGB', 'COLOR_YUV420SP2RGBA', 'COLOR_YUV420p2BGR', 'COLOR_YUV420p2BGRA', 'COLOR_YUV420p2GRAY', 'COLOR_YUV420p2RGB', 'COLOR_YUV420p2RGBA', 'COLOR_YUV420sp2BGR', 'COLOR_YUV420sp2BGRA', 'COLOR_YUV420sp2GRAY', 'COLOR_YUV420sp2RGB', 'COLOR_YUV420sp2RGBA', 'COLOR_mRGBA2RGBA']\n"
     ]
    }
   ],
   "source": [
    "colour_space_list = [i for i in dir(cv2) if i.startswith('COLOR_')]\n",
    "print(colour_space_list)"
   ]
  },
  {
   "cell_type": "markdown",
   "metadata": {},
   "source": [
    "#### 5. Object segmentation\n",
    "\n",
    "This program obtains all pixels within a HSV color range in order to segement an object. The program can choose between 4 sample videos to segment. To change the video, modify the parameter `dataset_number` in the main function."
   ]
  },
  {
   "cell_type": "code",
   "execution_count": 19,
   "metadata": {},
   "outputs": [],
   "source": [
    "def processVideo(cap, hsv_min = (0, 0, 0), hsv_max = (180, 255, 255)):\n",
    "\n",
    "    # Create new windows for visualisation purposes\n",
    "    cv2.namedWindow('Input video', cv2.WINDOW_NORMAL)\n",
    "    cv2.namedWindow('Segmented object', cv2.WINDOW_NORMAL)\n",
    "\n",
    "    while(cap.isOpened()):\n",
    "\n",
    "        # Grab current frame.\n",
    "        ret, frame = cap.read()\n",
    "\n",
    "        # Verify that frame was properly captured.\n",
    "        if ret == False:\n",
    "            print(\"ERROR: current frame could not be read\")            \n",
    "            break\n",
    "\n",
    "        # Convert BGR to HSV.\n",
    "        frame = resize(frame, 2)\n",
    "        hsv = cv2.cvtColor(frame, cv2.COLOR_BGR2HSV)\n",
    "\n",
    "        # Threshold the hsv image so that only blue pixels are kept.\n",
    "        mask = cv2.inRange(hsv, hsv_min, hsv_max)\n",
    "\n",
    "        # AND-bitwise operation between the mask and input images.\n",
    "        segmented_objects = cv2.bitwise_and(frame, frame, mask=mask)\n",
    "\n",
    "        # Visualise current frame.\n",
    "        cv2.imshow('Input video',frame)\n",
    "\n",
    "        # Visualise segmented blue object.\n",
    "        cv2.imshow('Segmented object', segmented_objects)\n",
    "\n",
    "        # Exit when the user presses the letter q.\n",
    "        if cv2.waitKey(1) & 0xFF == ord('q'):\n",
    "            break\n",
    "\n",
    "def main(dataset_number = 1):\n",
    "    \n",
    "    # Define an array containing min hsv, max hsv and the video file.\n",
    "    data = [\n",
    "        [(115, 30, 0), (190, 250, 250), FISH_VIDEO],\n",
    "        [(130, 0, 100), (160, 255, 255), RUNNING_TRACK_VIDEO],\n",
    "        [(160, 85, 85), (180, 200, 200), RUNNING_TRACK_VIDEO],\n",
    "        [(95, 40, 100), (110, 255, 255), MARDIGRASS_VIDEO]\n",
    "    ]\n",
    "    \n",
    "    # Make sure dataset number is within a valid range.\n",
    "    if (dataset_number >= 1 and dataset_number <= len(data)):\n",
    "        \n",
    "        # Open the selected video file.\n",
    "        selected = data[dataset_number - 1]\n",
    "        cap = openVideo(selected[2])\n",
    "        \n",
    "        # Filter video.\n",
    "        processVideo(cap, hsv_min = selected[0], hsv_max = selected[1])\n",
    "        \n",
    "        # When video finishes, close windows.\n",
    "        closeWindows(cap)\n",
    "    \n",
    "    else:\n",
    "        \n",
    "        print(\"Invalid dataset number.\")\n",
    "        exit()\n",
    "    \n",
    "main(dataset_number = 1)"
   ]
  },
  {
   "cell_type": "markdown",
   "metadata": {},
   "source": [
    "#### 6. Segment multiple objects\n",
    "\n",
    "In order to segment multiple objects, multiple ranges must be specified. The following two cells select the ranges to be displayed. Then the last cell uses those ranges to display the segmented objects.\n",
    "\n",
    "![Segmentation of the fish and rocks in the fish video.](fish-fishbow-segmentation.png)\n",
    "_Segmentation of the fish and rocks in the fish video._\n",
    "\n",
    "![Segmentation of blue, red, yellow, and violet objects in the mardigrass video.](mardigrass-segmentation.png)\n",
    "_Segmentation of blue, red, yellow, and violet objects in the mardigrass video._"
   ]
  },
  {
   "cell_type": "code",
   "execution_count": 20,
   "metadata": {},
   "outputs": [],
   "source": [
    "\"\"\"\n",
    "    Ranges to segment the fish and the fishbowl rocks.\n",
    "\"\"\"\n",
    "\n",
    "scale = 2\n",
    "ranges = [\n",
    "    [(90,  40, 0), (105, 250, 250), \"rocks\"],\n",
    "    [(115, 30, 0), (190, 250, 250), \"fish\" ]\n",
    "]\n",
    "INPUT_VIDEO = FISH_VIDEO"
   ]
  },
  {
   "cell_type": "code",
   "execution_count": 22,
   "metadata": {},
   "outputs": [],
   "source": [
    "\"\"\"\n",
    "    Ranges to segment blue, red, yellow, and violet color objects.\n",
    "\"\"\"\n",
    "\n",
    "scale = 2\n",
    "ranges = [\n",
    "    [(0,   100, 0), (10,  250, 250),  \"red\"   ],\n",
    "    [(20,  80,  0), (30,  250, 250),  \"yellow\"],\n",
    "    [(95,  50,  50), (105, 250, 250),  \"blue\"  ],\n",
    "    [(125, 30,  0), (135, 250, 250),  \"violet\"],\n",
    "]\n",
    "INPUT_VIDEO = MARDIGRASS_VIDEO"
   ]
  },
  {
   "cell_type": "code",
   "execution_count": 23,
   "metadata": {},
   "outputs": [],
   "source": [
    "# Open the specified video file.\n",
    "cap = openVideo(INPUT_VIDEO)\n",
    "\n",
    "# Create windows for input, output objects, and all ranges.\n",
    "cv2.namedWindow('input video', cv2.WINDOW_NORMAL)\n",
    "cv2.namedWindow('segmented objects', cv2.WINDOW_NORMAL)\n",
    "createHSVRangeWindows(ranges)\n",
    "\n",
    "while(cap.isOpened()):\n",
    "    \n",
    "    # Get the current frame.\n",
    "    ret, frame = cap.read()\n",
    "    if ret == False:\n",
    "        print(\"ERROR: current frame could not be read\")\n",
    "        break\n",
    "    \n",
    "    # Scale frame.\n",
    "    frame = resize(frame, scale)\n",
    "    \n",
    "    # Create a mask containing all ranges. Also display\n",
    "    # the range in its corresponding window.\n",
    "    mask = inHSVRanges(frame, ranges)\n",
    "    \n",
    "    # Apply mask to input frame.\n",
    "    segmented_objects = cv2.bitwise_and(frame, frame, mask=mask)\n",
    "    \n",
    "    # Display results.\n",
    "    cv2.imshow('input video', frame)\n",
    "    cv2.imshow('segmented objects', segmented_objects)\n",
    "    \n",
    "    # If the user presses the letter q exit.\n",
    "    if cv2.waitKey(1) & 0xFF == ord('q'):\n",
    "        break\n",
    "    \n",
    "    # Slow down video.\n",
    "    time.sleep(1/30)\n",
    "\n",
    "# Tidy up windows and exit.\n",
    "closeWindows(cap)"
   ]
  },
  {
   "cell_type": "markdown",
   "metadata": {},
   "source": [
    "### Conclusions\n",
    "\n",
    "In conclusion, working in the RGB color space isn’t that robust as working in the HSV color space. The main advantage is presented when the lighting changes. In the RGB color space, when the amount of light varies, different shades of the same color are perceived and represented in three variables (red, green, and blue). These three variables can change completely even through they could represent the same hue under different light conditions. This situation doesn’t happen under the HSV color space. The hue is maintained under different lighting conditions. Therefore, when segmenting colors is a required task, the HSV color space is ideal."
   ]
  },
  {
   "cell_type": "markdown",
   "metadata": {},
   "source": [
    "### References\n",
    "\n",
    "Shipman, J. (2012). 4.3. _The hue-saturation-value (HSV) color model._  \n",
    "Retrieved from: http://infohost.nmt.edu/tcc/help/pubs/colortheory/web/hsv.html"
   ]
  },
  {
   "cell_type": "markdown",
   "metadata": {},
   "source": [
    "_I hereby affirm that I have done this activity with academic integrity._"
   ]
  }
 ],
 "metadata": {
  "kernelspec": {
   "display_name": "Python 3",
   "language": "python",
   "name": "python3"
  },
  "language_info": {
   "codemirror_mode": {
    "name": "ipython",
    "version": 3
   },
   "file_extension": ".py",
   "mimetype": "text/x-python",
   "name": "python",
   "nbconvert_exporter": "python",
   "pygments_lexer": "ipython3",
   "version": "3.6.7"
  }
 },
 "nbformat": 4,
 "nbformat_minor": 2
}
